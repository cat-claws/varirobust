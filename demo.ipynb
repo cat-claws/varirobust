{
 "cells": [
  {
   "cell_type": "code",
   "execution_count": null,
   "id": "11bbeb14",
   "metadata": {},
   "outputs": [],
   "source": [
    "# !git add .\n",
    "# !git commit -m tolist\n",
    "# !git push"
   ]
  },
  {
   "cell_type": "code",
   "execution_count": null,
   "id": "d01da281",
   "metadata": {},
   "outputs": [
    {
     "name": "stdout",
     "output_type": "stream",
     "text": [
      "remote: Enumerating objects: 13, done.\u001b[K\n",
      "remote: Counting objects: 100% (13/13), done.\u001b[K\n",
      "remote: Compressing objects: 100% (5/5), done.\u001b[K\n",
      "remote: Total 9 (delta 7), reused 6 (delta 4), pack-reused 0\u001b[K\n",
      "Unpacking objects: 100% (9/9), 724 bytes | 724.00 KiB/s, done.\n",
      "From https://github.com/zhangruihan1/delta-predict\n",
      "   7ab1210..5faa662  main       -> origin/main\n",
      "\u001b[5A\u001b[m\u001b[mcommit.tarting with '#' will be ignored, and an empty message abortsy,ict into maino Spell  \u001b[7m^_\u001b[m Go To Line\u001b[7m[ Reading... ]\u001b[m\u001b[22;33H\u001b[7m[ Read 6 lines ]\u001b[m\u001b[H\u001b[7m  GNU nano 4.8  /home/azureuser/working/delta-predict/.git/MERGE_MSG            \u001b[1;79H\u001b[m"
     ]
    }
   ],
   "source": [
    "!git pull"
   ]
  },
  {
   "cell_type": "code",
   "execution_count": null,
   "id": "40d1aac1",
   "metadata": {},
   "outputs": [],
   "source": [
    "# git add .\n",
    "# git commit -m tolist\n",
    "# git push"
   ]
  },
  {
   "cell_type": "code",
   "execution_count": 1,
   "id": "b63573c9",
   "metadata": {},
   "outputs": [
    {
     "data": {
      "text/plain": [
       "<All keys matched successfully>"
      ]
     },
     "execution_count": 1,
     "metadata": {},
     "output_type": "execute_result"
    }
   ],
   "source": [
    "import torch\n",
    "import torch.nn.functional as F\n",
    "\n",
    "from utils import experiment, iterate\n",
    "from mnist_models import ConvNet\n",
    "\n",
    "m = ConvNet()\n",
    "m = m.to('cuda' if torch.cuda.is_available() else 'cpu')\n",
    "\n",
    "# ckpt = 'checkpoints/ConvNet.pt'\n",
    "ckpt = 'checkpoints/ConvNet_TRADES.pt'\n",
    "# ckpt = 'checkpoints/ConvNet_CVaR.pt'\n",
    "\n",
    "m.load_state_dict({k:torch.load(ckpt)[k] for k in m.state_dict()})\n",
    "\n"
   ]
  },
  {
   "cell_type": "code",
   "execution_count": 3,
   "id": "fd80923d",
   "metadata": {},
   "outputs": [
    {
     "ename": "RuntimeError",
     "evalue": "CUDA out of memory. Tried to allocate 7.01 GiB (GPU 0; 14.76 GiB total capacity; 7.66 GiB already allocated; 5.38 GiB free; 8.21 GiB reserved in total by PyTorch) If reserved memory is >> allocated memory try setting max_split_size_mb to avoid fragmentation.  See documentation for Memory Management and PYTORCH_CUDA_ALLOC_CONF",
     "output_type": "error",
     "traceback": [
      "\u001b[0;31m---------------------------------------------------------------------------\u001b[0m",
      "\u001b[0;31mRuntimeError\u001b[0m                              Traceback (most recent call last)",
      "Input \u001b[0;32mIn [3]\u001b[0m, in \u001b[0;36m<cell line: 1>\u001b[0;34m()\u001b[0m\n\u001b[1;32m      1\u001b[0m \u001b[38;5;28;01mwith\u001b[39;00m torch\u001b[38;5;241m.\u001b[39mno_grad():\n\u001b[0;32m----> 2\u001b[0m     outputs \u001b[38;5;241m=\u001b[39m \u001b[43miterate\u001b[49m\u001b[38;5;241;43m.\u001b[39;49m\u001b[43mpredict\u001b[49m\u001b[43m(\u001b[49m\u001b[43mm\u001b[49m\u001b[43m,\u001b[49m\n\u001b[1;32m      3\u001b[0m \u001b[43m                              \u001b[49m\u001b[43miterate\u001b[49m\u001b[38;5;241;43m.\u001b[39;49m\u001b[43mmnist_delta_predict_step_l2\u001b[49m\u001b[43m,\u001b[49m\n\u001b[1;32m      4\u001b[0m \u001b[43m                              \u001b[49m\u001b[43mdevice\u001b[49m\u001b[43m \u001b[49m\u001b[38;5;241;43m=\u001b[39;49m\u001b[43m \u001b[49m\u001b[38;5;124;43m'\u001b[39;49m\u001b[38;5;124;43mcuda\u001b[39;49m\u001b[38;5;124;43m'\u001b[39;49m\u001b[43m,\u001b[49m\n\u001b[1;32m      5\u001b[0m \u001b[43m                              \u001b[49m\u001b[43mval_set\u001b[49m\u001b[43m \u001b[49m\u001b[38;5;241;43m=\u001b[39;49m\u001b[43m \u001b[49m\u001b[43mexperiment\u001b[49m\u001b[38;5;241;43m.\u001b[39;49m\u001b[43mtrain_set\u001b[49m\u001b[43m,\u001b[49m\n\u001b[1;32m      6\u001b[0m \u001b[43m                              \u001b[49m\u001b[43mbatch_size\u001b[49m\u001b[43m \u001b[49m\u001b[38;5;241;43m=\u001b[39;49m\u001b[43m \u001b[49m\u001b[38;5;241;43m100\u001b[39;49m\n\u001b[1;32m      7\u001b[0m \u001b[43m                             \u001b[49m\u001b[43m)\u001b[49m\n\u001b[1;32m      8\u001b[0m \u001b[38;5;28mprint\u001b[39m(outputs\u001b[38;5;241m.\u001b[39mkeys(), outputs[\u001b[38;5;124m'\u001b[39m\u001b[38;5;124mpredictions\u001b[39m\u001b[38;5;124m'\u001b[39m])\n",
      "File \u001b[0;32m~/working/delta-predict/utils/iterate.py:201\u001b[0m, in \u001b[0;36mpredict\u001b[0;34m(model, predict_step, device, val_set, batch_size, epoch, writer)\u001b[0m\n\u001b[1;32m    197\u001b[0m \t\toutputs\u001b[38;5;241m.\u001b[39mappend(output)\n\u001b[1;32m    198\u001b[0m \u001b[38;5;66;03m# \t\tfor k, v in output.items():\u001b[39;00m\n\u001b[1;32m    199\u001b[0m \u001b[38;5;66;03m# \t\t\twriter.add_scalar(\"Step-\" + k + \"-valid\", v / batch_size, epoch * len(val_loader) + batch_idx)\u001b[39;00m\n\u001b[0;32m--> 201\u001b[0m outputs \u001b[38;5;241m=\u001b[39m {k: torch\u001b[38;5;241m.\u001b[39mcat([dic[k] \u001b[38;5;28;01mfor\u001b[39;00m dic \u001b[38;5;129;01min\u001b[39;00m outputs], dim \u001b[38;5;241m=\u001b[39m \u001b[38;5;241m0\u001b[39m)\u001b[38;5;241m.\u001b[39mtolist() \u001b[38;5;28;01mfor\u001b[39;00m k \u001b[38;5;129;01min\u001b[39;00m outputs[\u001b[38;5;241m0\u001b[39m]} \u001b[38;5;66;03m# array outputs\u001b[39;00m\n\u001b[1;32m    202\u001b[0m \u001b[38;5;66;03m# for k, v in outputs.items():\u001b[39;00m\n\u001b[1;32m    203\u001b[0m \u001b[38;5;66;03m# \twriter.add_scalar(\"Epoch-\" + k + \"/valid\", v / len(val_set), epoch)\u001b[39;00m\n\u001b[1;32m    204\u001b[0m \u001b[38;5;28;01mreturn\u001b[39;00m outputs\n",
      "File \u001b[0;32m~/working/delta-predict/utils/iterate.py:201\u001b[0m, in \u001b[0;36m<dictcomp>\u001b[0;34m(.0)\u001b[0m\n\u001b[1;32m    197\u001b[0m \t\toutputs\u001b[38;5;241m.\u001b[39mappend(output)\n\u001b[1;32m    198\u001b[0m \u001b[38;5;66;03m# \t\tfor k, v in output.items():\u001b[39;00m\n\u001b[1;32m    199\u001b[0m \u001b[38;5;66;03m# \t\t\twriter.add_scalar(\"Step-\" + k + \"-valid\", v / batch_size, epoch * len(val_loader) + batch_idx)\u001b[39;00m\n\u001b[0;32m--> 201\u001b[0m outputs \u001b[38;5;241m=\u001b[39m {k: \u001b[43mtorch\u001b[49m\u001b[38;5;241;43m.\u001b[39;49m\u001b[43mcat\u001b[49m\u001b[43m(\u001b[49m\u001b[43m[\u001b[49m\u001b[43mdic\u001b[49m\u001b[43m[\u001b[49m\u001b[43mk\u001b[49m\u001b[43m]\u001b[49m\u001b[43m \u001b[49m\u001b[38;5;28;43;01mfor\u001b[39;49;00m\u001b[43m \u001b[49m\u001b[43mdic\u001b[49m\u001b[43m \u001b[49m\u001b[38;5;129;43;01min\u001b[39;49;00m\u001b[43m \u001b[49m\u001b[43moutputs\u001b[49m\u001b[43m]\u001b[49m\u001b[43m,\u001b[49m\u001b[43m \u001b[49m\u001b[43mdim\u001b[49m\u001b[43m \u001b[49m\u001b[38;5;241;43m=\u001b[39;49m\u001b[43m \u001b[49m\u001b[38;5;241;43m0\u001b[39;49m\u001b[43m)\u001b[49m\u001b[38;5;241m.\u001b[39mtolist() \u001b[38;5;28;01mfor\u001b[39;00m k \u001b[38;5;129;01min\u001b[39;00m outputs[\u001b[38;5;241m0\u001b[39m]} \u001b[38;5;66;03m# array outputs\u001b[39;00m\n\u001b[1;32m    202\u001b[0m \u001b[38;5;66;03m# for k, v in outputs.items():\u001b[39;00m\n\u001b[1;32m    203\u001b[0m \u001b[38;5;66;03m# \twriter.add_scalar(\"Epoch-\" + k + \"/valid\", v / len(val_set), epoch)\u001b[39;00m\n\u001b[1;32m    204\u001b[0m \u001b[38;5;28;01mreturn\u001b[39;00m outputs\n",
      "\u001b[0;31mRuntimeError\u001b[0m: CUDA out of memory. Tried to allocate 7.01 GiB (GPU 0; 14.76 GiB total capacity; 7.66 GiB already allocated; 5.38 GiB free; 8.21 GiB reserved in total by PyTorch) If reserved memory is >> allocated memory try setting max_split_size_mb to avoid fragmentation.  See documentation for Memory Management and PYTORCH_CUDA_ALLOC_CONF"
     ]
    }
   ],
   "source": [
    "with torch.no_grad():\n",
    "    outputs = iterate.predict(m,\n",
    "                              iterate.mnist_delta_predict_step_l2,\n",
    "                              device = 'cuda',\n",
    "                              val_set = experiment.train_set,\n",
    "                              batch_size = 100\n",
    "                             )\n",
    "print(outputs.keys(), outputs['predictions'])\n"
   ]
  },
  {
   "cell_type": "code",
   "execution_count": null,
   "id": "880152fd",
   "metadata": {},
   "outputs": [],
   "source": [
    "import matplotlib.pyplot as plt\n",
    "\n",
    "plt.hist(outputs['correct'].tolist(), bins = 100)\n",
    "plt.show()"
   ]
  },
  {
   "cell_type": "code",
   "execution_count": null,
   "id": "a8960919",
   "metadata": {},
   "outputs": [],
   "source": [
    "plt.hist(outputs['predictions'].tolist(), bins = 100)\n",
    "plt.show()"
   ]
  },
  {
   "cell_type": "code",
   "execution_count": null,
   "id": "e654795b",
   "metadata": {},
   "outputs": [],
   "source": [
    "plt.imshow(outputs['samples'][0].squeeze().cpu())\n"
   ]
  },
  {
   "cell_type": "code",
   "execution_count": null,
   "id": "1c7892ee",
   "metadata": {},
   "outputs": [],
   "source": [
    "plt.imshow(outputs['samples'][100].squeeze().cpu())\n"
   ]
  },
  {
   "cell_type": "code",
   "execution_count": null,
   "id": "cf6f8b9e",
   "metadata": {},
   "outputs": [],
   "source": [
    "torch.cdist(outputs['samples'][0].flatten().unsqueeze(0), outputs['samples'][1].flatten().unsqueeze(0))"
   ]
  }
 ],
 "metadata": {
  "kernelspec": {
   "display_name": "Python 3 (ipykernel)",
   "language": "python",
   "name": "python3"
  },
  "language_info": {
   "codemirror_mode": {
    "name": "ipython",
    "version": 3
   },
   "file_extension": ".py",
   "mimetype": "text/x-python",
   "name": "python",
   "nbconvert_exporter": "python",
   "pygments_lexer": "ipython3",
   "version": "3.9.12"
  }
 },
 "nbformat": 4,
 "nbformat_minor": 5
}
