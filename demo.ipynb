{
 "cells": [
  {
   "cell_type": "code",
   "execution_count": null,
   "id": "d5cb4e22",
   "metadata": {},
   "outputs": [],
   "source": [
    "# !git add .\n",
    "# !git commit -m tolist\n",
    "# !git push"
   ]
  },
  {
   "cell_type": "code",
   "execution_count": null,
   "id": "16a51d81",
   "metadata": {},
   "outputs": [],
   "source": [
    "# !git pull"
   ]
  },
  {
   "cell_type": "code",
   "execution_count": null,
   "id": "742b31c2",
   "metadata": {},
   "outputs": [],
   "source": [
    "# git add .\n",
    "# git commit -m tolist\n",
    "# git push"
   ]
  },
  {
   "cell_type": "code",
   "execution_count": 1,
   "id": "b63573c9",
   "metadata": {},
   "outputs": [
    {
     "data": {
      "text/plain": [
       "<All keys matched successfully>"
      ]
     },
     "execution_count": 1,
     "metadata": {},
     "output_type": "execute_result"
    }
   ],
   "source": [
    "import torch\n",
    "import torch.nn.functional as F\n",
    "\n",
    "from utils import experiment, iterate\n",
    "from mnist_models import ConvNet\n",
    "\n",
    "m = ConvNet()\n",
    "m = m.to('cuda' if torch.cuda.is_available() else 'cpu')\n",
    "\n",
    "# ckpt = 'checkpoints/ConvNet.pt'\n",
    "ckpt = 'checkpoints/ConvNet_TRADES.pt'\n",
    "# ckpt = 'checkpoints/ConvNet_CVaR.pt'\n",
    "\n",
    "m.load_state_dict({k:torch.load(ckpt)[k] for k in m.state_dict()})\n",
    "\n"
   ]
  },
  {
   "cell_type": "code",
   "execution_count": null,
   "id": "fd80923d",
   "metadata": {},
   "outputs": [],
   "source": [
    "with torch.no_grad():\n",
    "    outputs = iterate.predict(m,\n",
    "                              iterate.mnist_delta_predict_step_l2,\n",
    "                              device = 'cuda',\n",
    "                              val_set = experiment.train_set,\n",
    "                              batch_size = 100\n",
    "                             )\n",
    "print(outputs.keys(), outputs['predictions'])\n"
   ]
  },
  {
   "cell_type": "code",
   "execution_count": null,
   "id": "880152fd",
   "metadata": {},
   "outputs": [],
   "source": [
    "import matplotlib.pyplot as plt\n",
    "\n",
    "plt.hist(outputs['correct'].tolist(), bins = 100)\n",
    "plt.show()"
   ]
  },
  {
   "cell_type": "code",
   "execution_count": null,
   "id": "a8960919",
   "metadata": {},
   "outputs": [],
   "source": [
    "plt.hist(outputs['predictions'].tolist(), bins = 100)\n",
    "plt.show()"
   ]
  },
  {
   "cell_type": "code",
   "execution_count": null,
   "id": "e654795b",
   "metadata": {},
   "outputs": [],
   "source": [
    "plt.imshow(outputs['samples'][0].squeeze().cpu())\n"
   ]
  },
  {
   "cell_type": "code",
   "execution_count": null,
   "id": "1c7892ee",
   "metadata": {},
   "outputs": [],
   "source": [
    "plt.imshow(outputs['samples'][100].squeeze().cpu())\n"
   ]
  },
  {
   "cell_type": "code",
   "execution_count": null,
   "id": "cf6f8b9e",
   "metadata": {},
   "outputs": [],
   "source": [
    "torch.cdist(outputs['samples'][0].flatten().unsqueeze(0), outputs['samples'][1].flatten().unsqueeze(0))"
   ]
  }
 ],
 "metadata": {
  "kernelspec": {
   "display_name": "Python 3 (ipykernel)",
   "language": "python",
   "name": "python3"
  },
  "language_info": {
   "codemirror_mode": {
    "name": "ipython",
    "version": 3
   },
   "file_extension": ".py",
   "mimetype": "text/x-python",
   "name": "python",
   "nbconvert_exporter": "python",
   "pygments_lexer": "ipython3",
   "version": "3.9.12"
  }
 },
 "nbformat": 4,
 "nbformat_minor": 5
}
