{
 "cells": [
  {
   "cell_type": "code",
   "execution_count": 1,
   "id": "b63573c9",
   "metadata": {},
   "outputs": [
    {
     "name": "stdout",
     "output_type": "stream",
     "text": [
      "CNN(\n",
      "  (conv): Sequential(\n",
      "    (0): Sequential(\n",
      "      (0): Conv2d(1, 6, kernel_size=(5, 5), stride=(1, 1))\n",
      "      (1): BatchNorm2d(6, eps=1e-05, momentum=0.1, affine=True, track_running_stats=True)\n",
      "      (2): ReLU(inplace=True)\n",
      "      (3): MaxPool2d(kernel_size=2, stride=2, padding=0, dilation=1, ceil_mode=False)\n",
      "    )\n",
      "    (1): Sequential(\n",
      "      (0): Conv2d(6, 16, kernel_size=(5, 5), stride=(1, 1))\n",
      "      (1): BatchNorm2d(16, eps=1e-05, momentum=0.1, affine=True, track_running_stats=True)\n",
      "      (2): ReLU(inplace=True)\n",
      "      (3): MaxPool2d(kernel_size=2, stride=2, padding=0, dilation=1, ceil_mode=False)\n",
      "    )\n",
      "  )\n",
      "  (fc): Sequential(\n",
      "    (0): Sequential(\n",
      "      (0): Linear(in_features=256, out_features=120, bias=True)\n",
      "      (1): BatchNorm1d(120, eps=1e-05, momentum=0.1, affine=True, track_running_stats=True)\n",
      "      (2): ReLU(inplace=True)\n",
      "    )\n",
      "    (1): Sequential(\n",
      "      (0): Linear(in_features=120, out_features=84, bias=True)\n",
      "      (1): BatchNorm1d(84, eps=1e-05, momentum=0.1, affine=True, track_running_stats=True)\n",
      "      (2): ReLU(inplace=True)\n",
      "    )\n",
      "    (2): Linear(in_features=84, out_features=10, bias=True)\n",
      "  )\n",
      "  (softmax): Softmax(dim=-1)\n",
      ")\n"
     ]
    }
   ],
   "source": [
    "import torch\n",
    "import torch.nn.functional as F\n",
    "from torch.utils.tensorboard import SummaryWriter\n",
    "\n",
    "import torchattacks\n",
    "\n",
    "from utils import experiment, iterate\n",
    "from mnist_models import CNN\n",
    "\n",
    "m = CNN()\n",
    "writer = SummaryWriter()\n",
    "\n",
    "for epoch in range(10):\n",
    "    m = iterate.train(m,\n",
    "        iterate.mnist_rand_step,\n",
    "        device = 'cuda',\n",
    "        train_set = experiment.train_set,\n",
    "        batch_size = 1000,\n",
    "        optimizer = torch.optim.Adam(m.parameters(), lr = 0.001),\n",
    "        epoch = epoch,\n",
    "        writer = writer\n",
    "    )\n",
    "\n",
    "    # iterate.validate(m,\n",
    "    #     iterate.mnist_augmented_step,\n",
    "    #     device = 'cuda',\n",
    "    #     val_set = experiment.val_set,\n",
    "    #     batch_size = 1000,\n",
    "    #     epoch = epoch,\n",
    "    #     writer = writer\n",
    "    # )\n",
    "\n",
    "    # iterate.attack(m,\n",
    "    #     iterate.mnist_step,\n",
    "    #     iterate.mnist_attacked_step,\n",
    "    #     device = 'cuda',\n",
    "    #     val_set = experiment.val_set,\n",
    "    #     batch_size = 1000,\n",
    "    #     epoch = epoch,\n",
    "    #     writer = writer,\n",
    "    #     torchattack=torchattacks.PGD,\n",
    "    #     eps=0.1,\n",
    "    #     alpha=1/255,\n",
    "    #     steps=40,\n",
    "    #     random_start=False\n",
    "    # )\n",
    "\n",
    "    # iterate.attack(m,\n",
    "    #     iterate.mnist_step,\n",
    "    #     iterate.mnist_attacked_step,\n",
    "    #     device = 'cuda',\n",
    "    #     val_set = experiment.val_set,\n",
    "    #     batch_size = 1000,\n",
    "    #     epoch = epoch,\n",
    "    #     writer = writer,\n",
    "    #     torchattack=torchattacks.PGDL2,\n",
    "    #     eps=0.5,\n",
    "    #     alpha=0.2,\n",
    "    #     steps=40,\n",
    "    #     random_start=True\n",
    "    # )\n",
    "# torch.save(m.state_dict(), \"mnist_cnn.pt\")\n",
    "print(m)\n",
    "writer.flush()\n",
    "writer.close()\n",
    "\n"
   ]
  },
  {
   "cell_type": "code",
   "execution_count": 2,
   "id": "fd80923d",
   "metadata": {},
   "outputs": [
    {
     "name": "stdout",
     "output_type": "stream",
     "text": [
      "dict_keys(['predictions', 'correct', 'samples']) tensor([1., 1., 1.,  ..., 1., 1., 1.], device='cuda:0')\n"
     ]
    }
   ],
   "source": [
    "outputs = iterate.predict(m,\n",
    "        iterate.mnist_delta_predict_step_linf,\n",
    "        device = 'cuda',\n",
    "        val_set = experiment.val_set,\n",
    "        batch_size = 1000\n",
    ")\n",
    "print(outputs.keys(), outputs['predictions'])\n"
   ]
  },
  {
   "cell_type": "code",
   "execution_count": 3,
   "id": "880152fd",
   "metadata": {},
   "outputs": [
    {
     "data": {
      "image/png": "[encoded data removed]",
      "text/plain": [
       "<Figure size 432x288 with 1 Axes>"
      ]
     },
     "metadata": {
      "needs_background": "light"
     },
     "output_type": "display_data"
    }
   ],
   "source": [
    "import matplotlib.pyplot as plt\n",
    "\n",
    "plt.hist(outputs['correct'].tolist(), bins = 100)\n",
    "plt.show()"
   ]
  },
  {
   "cell_type": "code",
   "execution_count": 4,
   "id": "a8960919",
   "metadata": {},
   "outputs": [
    {
     "data": {
      "image/png": "[encoded data removed]",
      "text/plain": [
       "<Figure size 432x288 with 1 Axes>"
      ]
     },
     "metadata": {
      "needs_background": "light"
     },
     "output_type": "display_data"
    }
   ],
   "source": [
    "plt.hist(outputs['predictions'].tolist(), bins = 100)\n",
    "plt.show()"
   ]
  },
  {
   "cell_type": "code",
   "execution_count": 5,
   "id": "e654795b",
   "metadata": {},
   "outputs": [
    {
     "data": {
      "text/plain": [
       "<matplotlib.image.AxesImage at 0x7fc152393ac0>"
      ]
     },
     "execution_count": 5,
     "metadata": {},
     "output_type": "execute_result"
    },
    {
     "data": {
      "image/png": "[encoded data removed]",
      "text/plain": [
       "<Figure size 432x288 with 1 Axes>"
      ]
     },
     "metadata": {
      "needs_background": "light"
     },
     "output_type": "display_data"
    }
   ],
   "source": [
    "plt.imshow(outputs['samples'][0].squeeze().cpu())\n"
   ]
  },
  {
   "cell_type": "code",
   "execution_count": 6,
   "id": "1c7892ee",
   "metadata": {},
   "outputs": [
    {
     "data": {
      "text/plain": [
       "<matplotlib.image.AxesImage at 0x7fc1521c9c70>"
      ]
     },
     "execution_count": 6,
     "metadata": {},
     "output_type": "execute_result"
    },
    {
     "data": {
      "image/png": "[encoded data removed]",
      "text/plain": [
       "<Figure size 432x288 with 1 Axes>"
      ]
     },
     "metadata": {
      "needs_background": "light"
     },
     "output_type": "display_data"
    }
   ],
   "source": [
    "plt.imshow(outputs['samples'][100].squeeze().cpu())\n"
   ]
  },
  {
   "cell_type": "code",
   "execution_count": 10,
   "id": "cf6f8b9e",
   "metadata": {},
   "outputs": [
    {
     "data": {
      "text/plain": [
       "tensor([[14.8443]], device='cuda:0')"
      ]
     },
     "execution_count": 10,
     "metadata": {},
     "output_type": "execute_result"
    }
   ],
   "source": [
    "torch.cdist(outputs['samples'][0].flatten().unsqueeze(0), outputs['samples'][1].flatten().unsqueeze(0))"
   ]
  }
 ],
 "metadata": {
  "kernelspec": {
   "display_name": "Python 3 (ipykernel)",
   "language": "python",
   "name": "python3"
  },
  "language_info": {
   "codemirror_mode": {
    "name": "ipython",
    "version": 3
   },
   "file_extension": ".py",
   "mimetype": "text/x-python",
   "name": "python",
   "nbconvert_exporter": "python",
   "pygments_lexer": "ipython3",
   "version": "3.9.12"
  }
 },
 "nbformat": 4,
 "nbformat_minor": 5
}
