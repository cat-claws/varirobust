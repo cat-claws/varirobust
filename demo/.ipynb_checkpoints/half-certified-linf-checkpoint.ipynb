{
 "cells": [
  {
   "cell_type": "code",
   "execution_count": 1,
   "id": "dad2b2e4",
   "metadata": {},
   "outputs": [],
   "source": [
    "# !git add .\n",
    "# !git commit -m tolist\n",
    "# !git push"
   ]
  },
  {
   "cell_type": "code",
   "execution_count": 2,
   "id": "9c6c042e",
   "metadata": {},
   "outputs": [],
   "source": [
    "import sys\n",
    "sys.path.append('../')"
   ]
  },
  {
   "cell_type": "code",
   "execution_count": 3,
   "id": "b63573c9",
   "metadata": {},
   "outputs": [
    {
     "data": {
      "text/plain": [
       "<All keys matched successfully>"
      ]
     },
     "execution_count": 3,
     "metadata": {},
     "output_type": "execute_result"
    }
   ],
   "source": [
    "import torch\n",
    "import torch.nn.functional as F\n",
    "\n",
    "from utils import experiment, iterate\n",
    "from nets.mnist import ConvNet\n",
    "\n",
    "m = ConvNet()\n",
    "m = m.to('cuda' if torch.cuda.is_available() else 'cpu')\n",
    "\n",
    "# ckpt = 'checkpoints/ConvNet.pt'\n",
    "ckpt = '../checkpoints/ConvNet_TRADES.pt'\n",
    "# ckpt = 'checkpoints/ConvNet_CVaR.pt'\n",
    "\n",
    "m.load_state_dict({k:torch.load(ckpt)[k] for k in m.state_dict()})\n",
    "\n"
   ]
  },
  {
   "cell_type": "code",
   "execution_count": 4,
   "id": "fd80923d",
   "metadata": {},
   "outputs": [],
   "source": [
    "with torch.no_grad():\n",
    "    outputs = iterate.predict(m,\n",
    "                              iterate.mnist_delta_predict_step_linf,\n",
    "                              device = 'cuda',\n",
    "                              val_set = experiment.train_set,\n",
    "                              batch_size = 1000\n",
    "                             )\n",
    "# print(outputs.keys(), outputs['predictions'])\n"
   ]
  },
  {
   "cell_type": "code",
   "execution_count": 5,
   "id": "8fe8bf66",
   "metadata": {},
   "outputs": [],
   "source": [
    "# outputs['predictions'] = torch.tensor(outputs['predictions']).squeeze().tolist()\n",
    "# outputs['correct'] = torch.tensor(outputs['correct']).squeeze().tolist()"
   ]
  },
  {
   "cell_type": "code",
   "execution_count": 6,
   "id": "1e0f2645",
   "metadata": {},
   "outputs": [
    {
     "data": {
      "text/plain": [
       "torch.Size([1000, 1, 28, 28])"
      ]
     },
     "execution_count": 6,
     "metadata": {},
     "output_type": "execute_result"
    }
   ],
   "source": [
    "torch.tensor(outputs['samples'][0]).shape"
   ]
  },
  {
   "cell_type": "code",
   "execution_count": 7,
   "id": "15ec806e",
   "metadata": {},
   "outputs": [
    {
     "data": {
      "text/plain": [
       "210"
      ]
     },
     "execution_count": 7,
     "metadata": {},
     "output_type": "execute_result"
    }
   ],
   "source": [
    "len(outputs['samples'])"
   ]
  },
  {
   "cell_type": "code",
   "execution_count": 8,
   "id": "880152fd",
   "metadata": {},
   "outputs": [
    {
     "data": {
      "image/png": "[encoded data removed]",
      "text/plain": [
       "<Figure size 432x288 with 1 Axes>"
      ]
     },
     "metadata": {
      "needs_background": "light"
     },
     "output_type": "display_data"
    }
   ],
   "source": [
    "import matplotlib.pyplot as plt\n",
    "\n",
    "plt.hist(outputs['correct'], bins = 100)\n",
    "plt.show()"
   ]
  },
  {
   "cell_type": "code",
   "execution_count": 9,
   "id": "a8960919",
   "metadata": {},
   "outputs": [
    {
     "data": {
      "image/png": "[encoded data removed]",
      "text/plain": [
       "<Figure size 432x288 with 1 Axes>"
      ]
     },
     "metadata": {
      "needs_background": "light"
     },
     "output_type": "display_data"
    }
   ],
   "source": [
    "plt.hist(outputs['predictions'], bins = 100)\n",
    "plt.show()"
   ]
  },
  {
   "cell_type": "code",
   "execution_count": 10,
   "id": "cf6f8b9e",
   "metadata": {},
   "outputs": [],
   "source": [
    "import numpy as np\n",
    "from sklearn.neighbors import KDTree\n"
   ]
  },
  {
   "cell_type": "code",
   "execution_count": 11,
   "id": "37972c92",
   "metadata": {},
   "outputs": [],
   "source": [
    "train_X = experiment.train_set.data / 255\n",
    "train_X = train_X.view(len(train_X), -1).numpy()\n",
    "train_tree = KDTree(train_X, leaf_size=2)              \n"
   ]
  },
  {
   "cell_type": "code",
   "execution_count": 12,
   "id": "ca5860f7",
   "metadata": {},
   "outputs": [],
   "source": [
    "test_X = experiment.val_set.data / 255\n",
    "test_X = test_X.view(len(test_X), -1).numpy()\n",
    "test_tree = KDTree(test_X, leaf_size=2)              \n"
   ]
  },
  {
   "cell_type": "code",
   "execution_count": 13,
   "id": "5da83a2a",
   "metadata": {},
   "outputs": [
    {
     "data": {
      "application/vnd.jupyter.widget-view+json": {
       "model_id": "384a8710ec47414b9bb14d25dd043070",
       "version_major": 2,
       "version_minor": 0
      },
      "text/plain": [
       "  0%|          | 0/60000 [00:00<?, ?it/s]"
      ]
     },
     "metadata": {},
     "output_type": "display_data"
    },
    {
     "ename": "KeyboardInterrupt",
     "evalue": "",
     "output_type": "error",
     "traceback": [
      "\u001b[0;31m---------------------------------------------------------------------------\u001b[0m",
      "\u001b[0;31mKeyboardInterrupt\u001b[0m                         Traceback (most recent call last)",
      "Input \u001b[0;32mIn [13]\u001b[0m, in \u001b[0;36m<cell line: 3>\u001b[0;34m()\u001b[0m\n\u001b[1;32m      2\u001b[0m all_in \u001b[38;5;241m=\u001b[39m \u001b[38;5;28mset\u001b[39m()\n\u001b[1;32m      3\u001b[0m \u001b[38;5;28;01mfor\u001b[39;00m i \u001b[38;5;129;01min\u001b[39;00m trange(\u001b[38;5;28mlen\u001b[39m(train_X)):\n\u001b[0;32m----> 4\u001b[0m     ind \u001b[38;5;241m=\u001b[39m \u001b[43mtest_tree\u001b[49m\u001b[38;5;241;43m.\u001b[39;49m\u001b[43mquery_radius\u001b[49m\u001b[43m(\u001b[49m\u001b[43mtrain_X\u001b[49m\u001b[43m[\u001b[49m\u001b[43mi\u001b[49m\u001b[43m:\u001b[49m\u001b[43mi\u001b[49m\u001b[38;5;241;43m+\u001b[39;49m\u001b[38;5;241;43m1\u001b[39;49m\u001b[43m]\u001b[49m\u001b[43m,\u001b[49m\u001b[43m \u001b[49m\u001b[43mr\u001b[49m\u001b[38;5;241;43m=\u001b[39;49m\u001b[43moutputs\u001b[49m\u001b[43m[\u001b[49m\u001b[38;5;124;43m'\u001b[39;49m\u001b[38;5;124;43mpredictions\u001b[39;49m\u001b[38;5;124;43m'\u001b[39;49m\u001b[43m]\u001b[49m\u001b[43m[\u001b[49m\u001b[43mi\u001b[49m\u001b[43m]\u001b[49m\u001b[43m)\u001b[49m\n\u001b[1;32m      5\u001b[0m     all_in\u001b[38;5;241m.\u001b[39mupdate(\u001b[38;5;28mset\u001b[39m(ind[\u001b[38;5;241m0\u001b[39m]\u001b[38;5;241m.\u001b[39mtolist()))\n\u001b[1;32m      6\u001b[0m     \u001b[38;5;28;01mif\u001b[39;00m \u001b[38;5;28mlen\u001b[39m(all_in) \u001b[38;5;241m==\u001b[39m \u001b[38;5;28mlen\u001b[39m(test_X):\n",
      "\u001b[0;31mKeyboardInterrupt\u001b[0m: "
     ]
    }
   ],
   "source": [
    "from tqdm.notebook import trange\n",
    "all_in = set()\n",
    "for i in trange(len(train_X)):\n",
    "    ind = test_tree.query_radius(train_X[i:i+1], r=outputs['predictions'][i])\n",
    "    all_in.update(set(ind[0].tolist()))\n",
    "    if len(all_in) == len(test_X):\n",
    "        break\n",
    "\n",
    "# ind = tree.query_radius(X[:1], r=0.3)  \n",
    "# print(ind)  # indices of neighbors within distance 0.3\n"
   ]
  },
  {
   "cell_type": "code",
   "execution_count": 92,
   "id": "650e6c35",
   "metadata": {},
   "outputs": [
    {
     "data": {
      "text/plain": [
       "0"
      ]
     },
     "execution_count": 92,
     "metadata": {},
     "output_type": "execute_result"
    }
   ],
   "source": [
    "len(all_in)"
   ]
  },
  {
   "cell_type": "code",
   "execution_count": 121,
   "id": "b398153d",
   "metadata": {},
   "outputs": [
    {
     "name": "stdout",
     "output_type": "stream",
     "text": [
      "102 34531\n"
     ]
    },
    {
     "data": {
      "image/png": "[encoded data removed]",
      "text/plain": [
       "<Figure size 432x288 with 2 Axes>"
      ]
     },
     "metadata": {
      "needs_background": "light"
     },
     "output_type": "display_data"
    }
   ],
   "source": [
    "import random\n",
    "\n",
    "ka = random.randint(0, 60000)\n",
    "kb = random.randint(0, 60000)\n",
    "ka = 2730\n",
    "kb = 17695\n",
    "ka = 102\n",
    "kb = 34531\n",
    "print(ka, kb)\n",
    "a = experiment.train_set.data[ka].repeat(1, 1, 1, 1) / 255\n",
    "b = experiment.train_set.data[kb].repeat(1, 1, 1, 1) / 255\n",
    "la = experiment.train_set.targets[ka]\n",
    "lb = experiment.train_set.targets[kb]\n",
    "\n",
    "figure, ax = plt.subplots(1, 2)\n",
    "ax[0].imshow(a.squeeze())\n",
    "ax[1].imshow(b.squeeze())\n",
    "plt.show()\n",
    "a = a.cuda()\n",
    "b = b.cuda()\n",
    "\n",
    "\n"
   ]
  },
  {
   "cell_type": "code",
   "execution_count": 76,
   "id": "755ffbb5",
   "metadata": {},
   "outputs": [],
   "source": [
    "from utils.sampling import sample_uniform_linf_with_clamp, sample_uniform_l2, forward_samples\n"
   ]
  },
  {
   "cell_type": "code",
   "execution_count": 87,
   "id": "d6349cd7",
   "metadata": {},
   "outputs": [
    {
     "data": {
      "text/plain": [
       "[<matplotlib.lines.Line2D at 0x7f74d4d6af40>]"
      ]
     },
     "execution_count": 87,
     "metadata": {},
     "output_type": "execute_result"
    },
    {
     "data": {
      "image/png": "[encoded data removed]",
      "text/plain": [
       "<Figure size 432x288 with 1 Axes>"
      ]
     },
     "metadata": {
      "needs_background": "light"
     },
     "output_type": "display_data"
    }
   ],
   "source": [
    "rate_a = []\n",
    "epsilons = np.linspace(0.1, 0.9, 90)\n",
    "for eps in epsilons:\n",
    "    scores_a, inputs_a = forward_samples(m, sample_uniform_linf_with_clamp, a, eps, 1000, batch_size = 10000)\n",
    "    rate_a.append((scores_a.argmax(-1) == la).sum().item())\n",
    "\n",
    "plt.plot(epsilons, rate_a)"
   ]
  },
  {
   "cell_type": "code",
   "execution_count": 90,
   "id": "13c021ce",
   "metadata": {},
   "outputs": [
    {
     "data": {
      "text/plain": [
       "[<matplotlib.lines.Line2D at 0x7f74d4c04e20>]"
      ]
     },
     "execution_count": 90,
     "metadata": {},
     "output_type": "execute_result"
    },
    {
     "data": {
      "image/png": "[encoded data removed]",
      "text/plain": [
       "<Figure size 432x288 with 1 Axes>"
      ]
     },
     "metadata": {
      "needs_background": "light"
     },
     "output_type": "display_data"
    }
   ],
   "source": [
    "rate_b = []\n",
    "epsilons = np.linspace(0.1, 0.9, 90)\n",
    "for eps in epsilons:\n",
    "    scores_b, inputs_b = forward_samples(m, sample_uniform_linf_with_clamp, b, eps, 1000, batch_size = 10000)\n",
    "    rate_b.append((scores_b.argmax(-1) == lb).sum().item())\n",
    "\n",
    "plt.plot(epsilons, rate_b)"
   ]
  },
  {
   "cell_type": "code",
   "execution_count": 101,
   "id": "245921e5",
   "metadata": {},
   "outputs": [],
   "source": [
    "mid = (a + b) / 2\n",
    "eps = torch.where(a > b, a, b) / 2\n",
    "scores_mid, inputs_mid = forward_samples(m, sample_uniform_linf_with_clamp, mid, eps, 1000, batch_size = 10000)\n",
    "\n",
    "# rate_mid = []\n",
    "# epsilons = np.linspace(0.1, 0.9, 90)\n",
    "# for eps in epsilons:\n",
    "#     scores_mid, inputs_mid = forward_samples(m, sample_uniform_linf_with_clamp, b, eps, 1000, batch_size = 10000)\n",
    "#     rate_mid.append((scores_b.argmax(-1) == lb).sum().item())\n",
    "\n",
    "# plt.plot(epsilons, rate_b)"
   ]
  },
  {
   "cell_type": "code",
   "execution_count": 99,
   "id": "a311853b",
   "metadata": {},
   "outputs": [
    {
     "data": {
      "text/plain": [
       "<matplotlib.image.AxesImage at 0x7f74d4a79ee0>"
      ]
     },
     "execution_count": 99,
     "metadata": {},
     "output_type": "execute_result"
    },
    {
     "data": {
      "image/png": "[encoded data removed]",
      "text/plain": [
       "<Figure size 432x288 with 1 Axes>"
      ]
     },
     "metadata": {
      "needs_background": "light"
     },
     "output_type": "display_data"
    }
   ],
   "source": [
    "plt.imshow(mid.cpu().squeeze())"
   ]
  },
  {
   "cell_type": "code",
   "execution_count": 107,
   "id": "941e378c",
   "metadata": {},
   "outputs": [
    {
     "data": {
      "text/plain": [
       "(array([ 84.,   0.,   0.,   0.,   0.,   0.,   0.,   0.,   0.,   0.,   0.,\n",
       "          0.,   0.,   0.,   0.,   0.,   0.,   0.,   0.,   0.,   0.,   0.,\n",
       "          0.,   0.,   0.,   0.,   0.,   0., 474.,   0.,   0.,   0.,   0.,\n",
       "          0.,   0.,   0.,   0.,   0.,   0.,   0.,   0.,   0.,   5.,   0.,\n",
       "          0.,   0.,   0.,   0.,   0.,   0.,   0.,   0.,   0.,   0.,   0.,\n",
       "          0.,   0.,  44.,   0.,   0.,   0.,   0.,   0.,   0.,   0.,   0.,\n",
       "          0.,   0.,   0.,   0.,   0.,   0.,   0.,   0.,   0.,   0.,   0.,\n",
       "          0.,   0.,   0.,   0.,   0.,   0.,   0.,   0., 367.,   0.,   0.,\n",
       "          0.,   0.,   0.,   0.,   0.,   0.,   0.,   0.,   0.,   0.,   0.,\n",
       "         27.]),\n",
       " array([2.  , 2.07, 2.14, 2.21, 2.28, 2.35, 2.42, 2.49, 2.56, 2.63, 2.7 ,\n",
       "        2.77, 2.84, 2.91, 2.98, 3.05, 3.12, 3.19, 3.26, 3.33, 3.4 , 3.47,\n",
       "        3.54, 3.61, 3.68, 3.75, 3.82, 3.89, 3.96, 4.03, 4.1 , 4.17, 4.24,\n",
       "        4.31, 4.38, 4.45, 4.52, 4.59, 4.66, 4.73, 4.8 , 4.87, 4.94, 5.01,\n",
       "        5.08, 5.15, 5.22, 5.29, 5.36, 5.43, 5.5 , 5.57, 5.64, 5.71, 5.78,\n",
       "        5.85, 5.92, 5.99, 6.06, 6.13, 6.2 , 6.27, 6.34, 6.41, 6.48, 6.55,\n",
       "        6.62, 6.69, 6.76, 6.83, 6.9 , 6.97, 7.04, 7.11, 7.18, 7.25, 7.32,\n",
       "        7.39, 7.46, 7.53, 7.6 , 7.67, 7.74, 7.81, 7.88, 7.95, 8.02, 8.09,\n",
       "        8.16, 8.23, 8.3 , 8.37, 8.44, 8.51, 8.58, 8.65, 8.72, 8.79, 8.86,\n",
       "        8.93, 9.  ]),\n",
       " <BarContainer object of 100 artists>)"
      ]
     },
     "execution_count": 107,
     "metadata": {},
     "output_type": "execute_result"
    },
    {
     "data": {
      "image/png": "[encoded data removed]",
      "text/plain": [
       "<Figure size 432x288 with 1 Axes>"
      ]
     },
     "metadata": {
      "needs_background": "light"
     },
     "output_type": "display_data"
    }
   ],
   "source": [
    "plt.hist(scores_mid.argmax(-1).squeeze().tolist(), bins = 100)"
   ]
  },
  {
   "cell_type": "code",
   "execution_count": 118,
   "id": "9926e075",
   "metadata": {},
   "outputs": [
    {
     "data": {
      "text/plain": [
       "<matplotlib.image.AxesImage at 0x7f74d485e6a0>"
      ]
     },
     "execution_count": 118,
     "metadata": {},
     "output_type": "execute_result"
    },
    {
     "data": {
      "image/png": "[encoded data removed]",
      "text/plain": [
       "<Figure size 432x288 with 1 Axes>"
      ]
     },
     "metadata": {
      "needs_background": "light"
     },
     "output_type": "display_data"
    }
   ],
   "source": [
    "plt.imshow(xj.squeeze())"
   ]
  },
  {
   "cell_type": "code",
   "execution_count": 129,
   "id": "0d1a42fd",
   "metadata": {},
   "outputs": [
    {
     "ename": "RuntimeError",
     "evalue": "[enforce fail at alloc_cpu.cpp:66] . DefaultCPUAllocator: can't allocate memory: you tried to allocate 2822400000000 bytes. Error code 12 (Cannot allocate memory)",
     "output_type": "error",
     "traceback": [
      "\u001b[0;31m---------------------------------------------------------------------------\u001b[0m",
      "\u001b[0;31mRuntimeError\u001b[0m                              Traceback (most recent call last)",
      "Input \u001b[0;32mIn [129]\u001b[0m, in \u001b[0;36m<cell line: 1>\u001b[0;34m()\u001b[0m\n\u001b[0;32m----> 1\u001b[0m dt \u001b[38;5;241m=\u001b[39m \u001b[43mexperiment\u001b[49m\u001b[38;5;241;43m.\u001b[39;49m\u001b[43mtrain_set\u001b[49m\u001b[38;5;241;43m.\u001b[39;49m\u001b[43mdata\u001b[49m\u001b[38;5;241;43m.\u001b[39;49m\u001b[43mview\u001b[49m\u001b[43m(\u001b[49m\u001b[38;5;241;43m60000\u001b[39;49m\u001b[43m,\u001b[49m\u001b[43m \u001b[49m\u001b[38;5;241;43m1\u001b[39;49m\u001b[43m,\u001b[49m\u001b[43m \u001b[49m\u001b[38;5;241;43m-\u001b[39;49m\u001b[38;5;241;43m1\u001b[39;49m\u001b[43m)\u001b[49m\u001b[43m \u001b[49m\u001b[38;5;241;43m-\u001b[39;49m\u001b[43m \u001b[49m\u001b[43mexperiment\u001b[49m\u001b[38;5;241;43m.\u001b[39;49m\u001b[43mtrain_set\u001b[49m\u001b[38;5;241;43m.\u001b[39;49m\u001b[43mdata\u001b[49m\u001b[38;5;241;43m.\u001b[39;49m\u001b[43mview\u001b[49m\u001b[43m(\u001b[49m\u001b[38;5;241;43m1\u001b[39;49m\u001b[43m,\u001b[49m\u001b[43m \u001b[49m\u001b[38;5;241;43m60000\u001b[39;49m\u001b[43m,\u001b[49m\u001b[43m \u001b[49m\u001b[38;5;241;43m-\u001b[39;49m\u001b[38;5;241;43m1\u001b[39;49m\u001b[43m)\u001b[49m\n\u001b[1;32m      2\u001b[0m dt\u001b[38;5;241m.\u001b[39mshape\n",
      "\u001b[0;31mRuntimeError\u001b[0m: [enforce fail at alloc_cpu.cpp:66] . DefaultCPUAllocator: can't allocate memory: you tried to allocate 2822400000000 bytes. Error code 12 (Cannot allocate memory)"
     ]
    }
   ],
   "source": [
    "dt = experiment.train_set.data.view(60000, 1, -1) - experiment.train_set.data.view(1, 60000, -1)\n",
    "dt.shape"
   ]
  },
  {
   "cell_type": "code",
   "execution_count": 127,
   "id": "27e2c064",
   "metadata": {},
   "outputs": [
    {
     "data": {
      "text/plain": [
       "torch.Size([60000, 784, 784])"
      ]
     },
     "execution_count": 127,
     "metadata": {},
     "output_type": "execute_result"
    }
   ],
   "source": [
    "dt.abs().view(60000, -1).max(-1)"
   ]
  },
  {
   "cell_type": "code",
   "execution_count": null,
   "id": "68bc94aa",
   "metadata": {},
   "outputs": [
    {
     "name": "stdout",
     "output_type": "stream",
     "text": [
      "(0, 3, 0.9921568632125854)\n",
      "(4, 17602, 0.9882352948188782)\n",
      "(18, 47251, 0.9803921580314636)\n",
      "(26, 5426, 0.9725490212440491)\n",
      "(26, 54548, 0.9647058844566345)\n",
      "(42, 30010, 0.9529411792755127)\n",
      "(232, 50428, 0.9215686321258545)\n"
     ]
    }
   ],
   "source": [
    "min_linf = 1\n",
    "my_list = []\n",
    "\n",
    "for i in range(len(experiment.train_set)):\n",
    "    for j in range(len(experiment.train_set)):\n",
    "        if i != j:\n",
    "            xi, li = experiment.train_set[i]\n",
    "            xj, lj = experiment.train_set[j]\n",
    "            linf = (xi - xj).abs().max().item()\n",
    "            if linf < min_linf:\n",
    "                my_list.append((i, j, linf))\n",
    "                if li != lj:\n",
    "                    print(my_list[-1])\n",
    "                    min_linf = linf"
   ]
  }
 ],
 "metadata": {
  "kernelspec": {
   "display_name": "Python 3 (ipykernel)",
   "language": "python",
   "name": "python3"
  },
  "language_info": {
   "codemirror_mode": {
    "name": "ipython",
    "version": 3
   },
   "file_extension": ".py",
   "mimetype": "text/x-python",
   "name": "python",
   "nbconvert_exporter": "python",
   "pygments_lexer": "ipython3",
   "version": "3.9.12"
  }
 },
 "nbformat": 4,
 "nbformat_minor": 5
}
