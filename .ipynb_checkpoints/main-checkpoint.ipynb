{
 "cells": [
  {
   "cell_type": "code",
   "execution_count": 1,
   "id": "6631ac90",
   "metadata": {},
   "outputs": [
    {
     "name": "stdout",
     "output_type": "stream",
     "text": [
      "Validation-epoch 0. Avg-Loss: 0.3369, Accuracy: 0.9192\n",
      "Validation-epoch 1. Avg-Loss: 0.1316, Accuracy: 0.9673\n",
      "Validation-epoch 2. Avg-Loss: 0.0707, Accuracy: 0.9813\n",
      "Validation-epoch 3. Avg-Loss: 0.0516, Accuracy: 0.9856\n",
      "Validation-epoch 4. Avg-Loss: 0.0427, Accuracy: 0.9872\n"
     ]
    }
   ],
   "source": [
    "import utils\n",
    "# from utils import DeltaEnsemble\n",
    "from mnist_models import TwoLayerNN, MLP, CNN, MLPBN, ConvNet, LeNet, LeNet5\n",
    "import torch.nn.functional as F\n",
    "\n",
    "import torch\n",
    "\n",
    "m = CNN()\n",
    "batchSize = 1000\n",
    "loss_fn = lambda x, y: F.nll_loss(torch.log(x + 1e-9), y)\n",
    "learningRate = 0.001\n",
    "\n",
    "optimizer = torch.optim.Adam(m.parameters(), lr = learningRate)\n",
    "\n",
    "num_epochs = 5\n",
    "\n",
    "utils.train_model(m, loss_fn, batchSize, utils.trainset, utils.valset, optimizer, num_epochs)\n"
   ]
  },
  {
   "cell_type": "code",
   "execution_count": 2,
   "id": "0ddc5665",
   "metadata": {},
   "outputs": [
    {
     "name": "stdout",
     "output_type": "stream",
     "text": [
      "Before. Avg-Loss: 0.0427, Accuracy: 0.9872\n",
      "After. Avg-Loss: 1.2628, Accuracy: 0.5835\n"
     ]
    }
   ],
   "source": [
    "utils.attack_model(m, loss_fn, 1000, utils.valset, 400);\n"
   ]
  },
  {
   "cell_type": "code",
   "execution_count": 14,
   "id": "ec2b5cd1",
   "metadata": {},
   "outputs": [],
   "source": [
    "import numpy as np\n",
    "\n",
    "class DeltaEnsemble(torch.nn.Module):\n",
    "    def __init__(self, m, eps = 0.1, n_neighb = 0):\n",
    "        super(DeltaEnsemble, self).__init__()\n",
    "        self.m = m\n",
    "        self.eps = eps\n",
    "        self.n_neighb = n_neighb\n",
    "\n",
    "    def _get_neighb_steep(self, x, n_neighb):\n",
    "        all_inputs = [x]\n",
    "        for k in range(n_neighb):\n",
    "            grad = torch.sigmoid(torch.rand_like(x).uniform_(-200, 200))\n",
    "            ub = torch.clamp(x + self.eps, min = 0, max = 1)\n",
    "            lb = torch.clamp(x - self.eps, min = 0, max = 1)\n",
    "            delta = ub - lb\n",
    "            x2 = delta * grad + lb\n",
    "            all_inputs.append(x2)\n",
    "        return torch.stack(all_inputs)\n",
    "\n",
    "    def _cam_z(self, x):\n",
    "        x_ = x.clone().detach()\n",
    "        x_.requires_grad = True\n",
    "        z_ = self.m._feature(x_)\n",
    "        z = z_.detach()\n",
    "        z = z +  torch.randn_like(z).normal_(std = z.std() / 10)\n",
    "        loss_z = F.mse_loss(z_, z)\n",
    "        loss_z.backward()\n",
    "        return x_.grad\n",
    "\n",
    "    def _cam_d(self, x):\n",
    "        x_ = x.clone().detach()\n",
    "        x_.requires_grad = True\n",
    "        d_ = self.m(x_)\n",
    "        d = torch.rand_like(d_).uniform_(-100, 100).softmax(-1)\n",
    "        loss_d = F.kl_div(d_.log(), d)\n",
    "        loss_d.backward()\n",
    "        return x_.grad\n",
    "\n",
    "    def _get_neighb_with_cam(self, x, n_neighb):\n",
    "        cam_abs = self._cam_z(x).abs()\n",
    "        cam_mask = cam_abs > np.percentile(cam_abs.cpu(), 75)\n",
    "\n",
    "        x = x.unsqueeze(0)\n",
    "        x_ = x.repeat(n_neighb, 1, 1, 1, 1)\n",
    "        x_ = x + torch.randn_like(x_).sign() * self.eps * cam_mask\n",
    "        x_ = torch.clamp(x_, min = 0, max = 1)\n",
    "        x_ = torch.cat((x, x_), dim = 0)\n",
    "        return x_\n",
    "\n",
    "    def _get_neighb_uniform(self, x, n_neighb):\n",
    "        x = x.unsqueeze(0)\n",
    "        x_ = x.repeat(n_neighb, 1, 1, 1, 1)\n",
    "        ub = torch.clamp(x + self.eps, min = 0, max = 1)\n",
    "        lb = torch.clamp(x - self.eps, min = 0, max = 1)\n",
    "        x_ = (ub - lb) * torch.rand_like(x_) + lb\n",
    "        x_ = torch.cat((x, x_), dim = 0)\n",
    "        return x_\n",
    "\n",
    "    def _predict_neighb(self, x, n_neighb):\n",
    "        all_inputs = self._get_neighb_with_cam(x, n_neighb)\n",
    "        if (n_neighb + 1) * len(x) <= 10000:\n",
    "            outputs = self.m(all_inputs.view((n_neighb + 1) * len(x), *x.shape[1:])).view((n_neighb + 1), len(x), -1)\n",
    "        else:\n",
    "            outputs = torch.stack([self.m(i) for i in all_inputs])\n",
    "        return outputs\n",
    "\n",
    "    def forward(self, x, n_neighb = -1):\n",
    "        if n_neighb == -1:\n",
    "            n_neighb = self.n_neighb\n",
    "\n",
    "        if n_neighb == 0:\n",
    "            return self.m(x)\n",
    "        else:            \n",
    "            outputs = self._predict_neighb(x, n_neighb)\n",
    "            return sum(outputs) / n_neighb"
   ]
  },
  {
   "cell_type": "code",
   "execution_count": 15,
   "id": "df9700e4",
   "metadata": {},
   "outputs": [
    {
     "name": "stdout",
     "output_type": "stream",
     "text": [
      "1\n",
      "Before. Avg-Loss: -0.6473, Accuracy: 0.9879\n",
      "After. Avg-Loss: 0.1906, Accuracy: 0.6752\n",
      "2\n",
      "Before. Avg-Loss: -0.3581, Accuracy: 0.9871\n",
      "After. Avg-Loss: 0.4051, Accuracy: 0.7036\n",
      "5\n",
      "Before. Avg-Loss: -0.1409, Accuracy: 0.9876\n",
      "After. Avg-Loss: 0.4989, Accuracy: 0.7299\n",
      "10\n",
      "Before. Avg-Loss: -0.0493, Accuracy: 0.9875\n",
      "After. Avg-Loss: 0.6020, Accuracy: 0.7383\n"
     ]
    }
   ],
   "source": [
    "for i in [1, 2, 5, 10]:\n",
    "    print(i)\n",
    "    m_ = DeltaEnsemble(m, n_neighb = i, eps = 0.2)\n",
    "    m_.eval()\n",
    "    utils.attack_model(m_, loss_fn, int(40000 // max(1, i)), utils.valset, 400)\n",
    "#     break"
   ]
  },
  {
   "cell_type": "code",
   "execution_count": 16,
   "id": "3899f159",
   "metadata": {},
   "outputs": [],
   "source": [
    "m_ = DeltaEnsemble(m, n_neighb = 10)\n",
    "\n",
    "import matplotlib.pyplot as plt\n",
    "import torchattacks\n",
    "atk = torchattacks.PGD(m_, eps=0.1, alpha=1/255, steps=400, random_start=False)\n"
   ]
  },
  {
   "cell_type": "code",
   "execution_count": 17,
   "id": "98209845",
   "metadata": {},
   "outputs": [
    {
     "data": {
      "application/vnd.jupyter.widget-view+json": {
       "model_id": "720a7d6963214c76a5e54a79631dbe08",
       "version_major": 2,
       "version_minor": 0
      },
      "text/plain": [
       "  0%|          | 0/10000 [00:00<?, ?it/s]"
      ]
     },
     "metadata": {},
     "output_type": "display_data"
    }
   ],
   "source": [
    "from tqdm.notebook import tqdm\n",
    "wrong = []\n",
    "\n",
    "for k, (x, label) in enumerate(tqdm(utils.valset)):\n",
    "    m_.eval()\n",
    "    x = x.unsqueeze(0).cuda()    \n",
    "    adv_images = atk(x, torch.tensor(label).unsqueeze(0).cuda())    \n",
    "    if m_(x).argmax().item() != m_(adv_images).argmax().item():\n",
    "        wrong.append(k)\n",
    "        break"
   ]
  },
  {
   "cell_type": "code",
   "execution_count": 18,
   "id": "f41aaeca",
   "metadata": {},
   "outputs": [],
   "source": [
    "# k = 35\n",
    "x, label = utils.valset[k]\n",
    "x = x.unsqueeze(0).cuda()\n",
    "adv_images = atk(x, torch.tensor(label).unsqueeze(0).cuda())\n"
   ]
  },
  {
   "cell_type": "code",
   "execution_count": 19,
   "id": "f6f07657",
   "metadata": {},
   "outputs": [
    {
     "data": {
      "image/png": "[encoded data removed]",
      "text/plain": [
       "<Figure size 432x288 with 1 Axes>"
      ]
     },
     "metadata": {
      "needs_background": "light"
     },
     "output_type": "display_data"
    }
   ],
   "source": [
    "x_ = m_._get_neighb_with_cam(x, 1000)\n",
    "pred_ = m(x_.squeeze(1))\n",
    "plt.plot(pred_.cpu().detach().T)\n",
    "plt.show()"
   ]
  },
  {
   "cell_type": "code",
   "execution_count": 20,
   "id": "97053f98",
   "metadata": {},
   "outputs": [
    {
     "data": {
      "image/png": "[encoded data removed]",
      "text/plain": [
       "<Figure size 432x288 with 1 Axes>"
      ]
     },
     "metadata": {
      "needs_background": "light"
     },
     "output_type": "display_data"
    },
    {
     "name": "stdout",
     "output_type": "stream",
     "text": [
      "Counter({4: 1001})\n",
      "Counter({8: 1001})\n"
     ]
    }
   ],
   "source": [
    "adv_images_ = m_._get_neighb_with_cam(adv_images, 1000)\n",
    "pred_adv_images_ = m(adv_images_.squeeze(1))\n",
    "plt.plot(pred_adv_images_.cpu().detach().T)\n",
    "plt.show()\n",
    "\n",
    "from collections import Counter\n",
    "\n",
    "print(Counter(pred_.cpu().detach().argmax(1).tolist()))\n",
    "print(Counter(pred_adv_images_.cpu().detach().argmax(1).tolist()))\n"
   ]
  },
  {
   "cell_type": "code",
   "execution_count": 21,
   "id": "67bb7cde",
   "metadata": {},
   "outputs": [
    {
     "data": {
      "text/plain": [
       "[<matplotlib.lines.Line2D at 0x7f7ab158ae80>]"
      ]
     },
     "execution_count": 21,
     "metadata": {},
     "output_type": "execute_result"
    },
    {
     "data": {
      "image/png": "[encoded data removed]",
      "text/plain": [
       "<Figure size 432x288 with 8 Axes>"
      ]
     },
     "metadata": {
      "needs_background": "light"
     },
     "output_type": "display_data"
    }
   ],
   "source": [
    "import random\n",
    "\n",
    "fig, axs = plt.subplots(4, 2)\n",
    "axs[0, 0].plot(m(x.repeat(2, 1,1,1)).tolist()[0])\n",
    "axs[0, 1].plot(m(adv_images.repeat(2, 1,1,1)).tolist()[0])\n",
    "axs[1, 0].matshow(x.squeeze().cpu())\n",
    "axs[1, 1].matshow(adv_images.squeeze().cpu())\n",
    "axs[2, 0].matshow(x_[random.randint(0, len(adv_images_))].squeeze().cpu())\n",
    "axs[2, 1].matshow(adv_images_[random.randint(0, len(adv_images_))].squeeze().cpu())\n",
    "axs[3, 0].plot(m_(x.repeat(2, 1,1,1)).tolist()[0])\n",
    "axs[3, 1].plot(m_(adv_images.repeat(2, 1,1,1)).tolist()[0])\n"
   ]
  }
 ],
 "metadata": {
  "kernelspec": {
   "display_name": "Python 3 (ipykernel)",
   "language": "python",
   "name": "python3"
  },
  "language_info": {
   "codemirror_mode": {
    "name": "ipython",
    "version": 3
   },
   "file_extension": ".py",
   "mimetype": "text/x-python",
   "name": "python",
   "nbconvert_exporter": "python",
   "pygments_lexer": "ipython3",
   "version": "3.9.12"
  }
 },
 "nbformat": 4,
 "nbformat_minor": 5
}
