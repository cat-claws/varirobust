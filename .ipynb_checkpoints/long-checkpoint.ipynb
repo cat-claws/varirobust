{
 "cells": [
  {
   "cell_type": "code",
   "execution_count": 1,
   "id": "6631ac90",
   "metadata": {},
   "outputs": [
    {
     "name": "stdout",
     "output_type": "stream",
     "text": [
      "Validation-epoch 0. Avg-Loss: 0.4585, Accuracy: 0.8873\n",
      "Validation-epoch 1. Avg-Loss: 0.1733, Accuracy: 0.9514\n",
      "Validation-epoch 2. Avg-Loss: 0.1027, Accuracy: 0.9693\n",
      "Validation-epoch 3. Avg-Loss: 0.0993, Accuracy: 0.9666\n",
      "Validation-epoch 4. Avg-Loss: 0.0691, Accuracy: 0.9789\n"
     ]
    }
   ],
   "source": [
    "import utils\n",
    "from utils import DeltaEnsemble\n",
    "from mnist_models import TwoLayerNN, MLP, CNN, MLPBN, ConvNet, LeNet, LeNet5\n",
    "import torch.nn.functional as F\n",
    "\n",
    "import torch\n",
    "\n",
    "m = CNN()\n",
    "batchSize = 1000\n",
    "loss_fn = lambda x, y: F.nll_loss(torch.log(x + 1e-9), y)\n",
    "learningRate = 0.001\n",
    "\n",
    "optimizer = torch.optim.Adam(m.parameters(), lr = learningRate)\n",
    "\n",
    "num_epochs = 5\n",
    "\n",
    "utils.train_model(m, loss_fn, batchSize, utils.trainset, utils.valset, optimizer, num_epochs)\n"
   ]
  },
  {
   "cell_type": "code",
   "execution_count": 2,
   "id": "0ddc5665",
   "metadata": {},
   "outputs": [
    {
     "name": "stdout",
     "output_type": "stream",
     "text": [
      "Before. Avg-Loss: 0.0691, Accuracy: 0.9789\n",
      "After. Avg-Loss: 0.4891, Accuracy: 0.8346\n"
     ]
    }
   ],
   "source": [
    "utils.attack_model(m, loss_fn, 1000, utils.valset, 400);\n"
   ]
  },
  {
   "cell_type": "code",
   "execution_count": 3,
   "id": "bc27328d",
   "metadata": {},
   "outputs": [],
   "source": [
    "import numpy as np"
   ]
  },
  {
   "cell_type": "code",
   "execution_count": 11,
   "id": "df9700e4",
   "metadata": {},
   "outputs": [
    {
     "name": "stdout",
     "output_type": "stream",
     "text": [
      "Before. Avg-Loss: -0.6237, Accuracy: 0.9782\n",
      "After. Avg-Loss: -0.3247, Accuracy: 0.8718\n",
      "1 0.1 0.9782 0.8718\n",
      "Before. Avg-Loss: -0.6231, Accuracy: 0.9780\n",
      "After. Avg-Loss: -0.3317, Accuracy: 0.8733\n",
      "1 0.15000000000000002 0.978 0.8733\n",
      "Before. Avg-Loss: -0.6225, Accuracy: 0.9784\n",
      "After. Avg-Loss: -0.3357, Accuracy: 0.8726\n",
      "1 0.2 0.9784 0.8726\n",
      "Before. Avg-Loss: -0.6211, Accuracy: 0.9784\n",
      "After. Avg-Loss: -0.3316, Accuracy: 0.8709\n",
      "1 0.25 0.9784 0.8709\n",
      "Before. Avg-Loss: -0.6184, Accuracy: 0.9782\n",
      "After. Avg-Loss: -0.3217, Accuracy: 0.8675\n",
      "1 0.30000000000000004 0.9782 0.8675\n",
      "Before. Avg-Loss: -0.6165, Accuracy: 0.9782\n",
      "After. Avg-Loss: -0.3070, Accuracy: 0.8615\n",
      "1 0.3500000000000001 0.9782 0.8615\n",
      "Before. Avg-Loss: -0.6108, Accuracy: 0.9780\n",
      "After. Avg-Loss: -0.2810, Accuracy: 0.8556\n",
      "1 0.4 0.978 0.8556\n",
      "Before. Avg-Loss: -0.3360, Accuracy: 0.9783\n",
      "After. Avg-Loss: -0.0663, Accuracy: 0.8836\n",
      "2 0.1 0.9783 0.8836\n",
      "Before. Avg-Loss: -0.3353, Accuracy: 0.9787\n",
      "After. Avg-Loss: -0.0746, Accuracy: 0.8851\n",
      "2 0.15000000000000002 0.9787 0.8851\n",
      "Before. Avg-Loss: -0.3338, Accuracy: 0.9773\n",
      "After. Avg-Loss: -0.0729, Accuracy: 0.8835\n",
      "2 0.2 0.9773 0.8835\n",
      "Before. Avg-Loss: -0.3321, Accuracy: 0.9775\n",
      "After. Avg-Loss: -0.0696, Accuracy: 0.8799\n",
      "2 0.25 0.9775 0.8799\n",
      "Before. Avg-Loss: -0.3292, Accuracy: 0.9778\n",
      "After. Avg-Loss: -0.0541, Accuracy: 0.8775\n",
      "2 0.30000000000000004 0.9778 0.8775\n",
      "Before. Avg-Loss: -0.3251, Accuracy: 0.9779\n",
      "After. Avg-Loss: -0.0298, Accuracy: 0.8685\n",
      "2 0.3500000000000001 0.9779 0.8685\n",
      "Before. Avg-Loss: -0.3175, Accuracy: 0.9774\n",
      "After. Avg-Loss: 0.0068, Accuracy: 0.8580\n",
      "2 0.4 0.9774 0.858\n",
      "Before. Avg-Loss: -0.1216, Accuracy: 0.9778\n",
      "After. Avg-Loss: 0.0967, Accuracy: 0.8920\n",
      "5 0.1 0.9778 0.892\n",
      "Before. Avg-Loss: -0.1203, Accuracy: 0.9775\n",
      "After. Avg-Loss: 0.0909, Accuracy: 0.8943\n",
      "5 0.15000000000000002 0.9775 0.8943\n",
      "Before. Avg-Loss: -0.1191, Accuracy: 0.9779\n",
      "After. Avg-Loss: 0.0913, Accuracy: 0.8940\n",
      "5 0.2 0.9779 0.894\n",
      "Before. Avg-Loss: -0.1165, Accuracy: 0.9777\n",
      "After. Avg-Loss: 0.0983, Accuracy: 0.8910\n",
      "5 0.25 0.9777 0.891\n",
      "Before. Avg-Loss: -0.1136, Accuracy: 0.9786\n",
      "After. Avg-Loss: 0.1185, Accuracy: 0.8841\n",
      "5 0.30000000000000004 0.9786 0.8841\n",
      "Before. Avg-Loss: -0.1076, Accuracy: 0.9775\n",
      "After. Avg-Loss: 0.1505, Accuracy: 0.8737\n",
      "5 0.3500000000000001 0.9775 0.8737\n",
      "Before. Avg-Loss: -0.1001, Accuracy: 0.9766\n",
      "After. Avg-Loss: 0.2040, Accuracy: 0.8598\n",
      "5 0.4 0.9766 0.8598\n",
      "Before. Avg-Loss: -0.0295, Accuracy: 0.9780\n",
      "After. Avg-Loss: 0.1919, Accuracy: 0.8957\n",
      "10 0.1 0.978 0.8957\n",
      "Before. Avg-Loss: -0.0285, Accuracy: 0.9782\n",
      "After. Avg-Loss: 0.1856, Accuracy: 0.8991\n",
      "10 0.15000000000000002 0.9782 0.8991\n",
      "Before. Avg-Loss: -0.0268, Accuracy: 0.9779\n",
      "After. Avg-Loss: 0.1866, Accuracy: 0.8980\n",
      "10 0.2 0.9779 0.898\n",
      "Before. Avg-Loss: -0.0238, Accuracy: 0.9772\n",
      "After. Avg-Loss: 0.1955, Accuracy: 0.8944\n",
      "10 0.25 0.9772 0.8944\n",
      "Before. Avg-Loss: -0.0201, Accuracy: 0.9775\n",
      "After. Avg-Loss: 0.2188, Accuracy: 0.8879\n",
      "10 0.30000000000000004 0.9775 0.8879\n",
      "Before. Avg-Loss: -0.0135, Accuracy: 0.9770\n",
      "After. Avg-Loss: 0.2602, Accuracy: 0.8755\n",
      "10 0.3500000000000001 0.977 0.8755\n",
      "Before. Avg-Loss: -0.0037, Accuracy: 0.9776\n",
      "After. Avg-Loss: 0.3185, Accuracy: 0.8581\n",
      "10 0.4 0.9776 0.8581\n",
      "Before. Avg-Loss: -0.0670, Accuracy: 0.9786\n",
      "After. Avg-Loss: 0.1613, Accuracy: 0.8944\n",
      "7 0.1 0.9786 0.8944\n",
      "Before. Avg-Loss: -0.0660, Accuracy: 0.9782\n",
      "After. Avg-Loss: 0.1549, Accuracy: 0.8976\n",
      "7 0.15000000000000002 0.9782 0.8976\n",
      "Before. Avg-Loss: -0.0641, Accuracy: 0.9777\n",
      "After. Avg-Loss: 0.1568, Accuracy: 0.8954\n",
      "7 0.2 0.9777 0.8954\n",
      "Before. Avg-Loss: -0.0615, Accuracy: 0.9777\n",
      "After. Avg-Loss: 0.1649, Accuracy: 0.8935\n",
      "7 0.25 0.9777 0.8935\n",
      "Before. Avg-Loss: -0.0579, Accuracy: 0.9778\n",
      "After. Avg-Loss: 0.1866, Accuracy: 0.8857\n",
      "7 0.30000000000000004 0.9778 0.8857\n",
      "Before. Avg-Loss: -0.0519, Accuracy: 0.9776\n",
      "After. Avg-Loss: 0.2246, Accuracy: 0.8745\n",
      "7 0.3500000000000001 0.9776 0.8745\n",
      "Before. Avg-Loss: -0.0419, Accuracy: 0.9776\n",
      "After. Avg-Loss: 0.2807, Accuracy: 0.8604\n",
      "7 0.4 0.9776 0.8604\n",
      "Before. Avg-Loss: -0.2181, Accuracy: 0.9783\n",
      "After. Avg-Loss: 0.0382, Accuracy: 0.8879\n",
      "3 0.1 0.9783 0.8879\n",
      "Before. Avg-Loss: -0.2171, Accuracy: 0.9777\n",
      "After. Avg-Loss: 0.0309, Accuracy: 0.8898\n",
      "3 0.15000000000000002 0.9777 0.8898\n",
      "Before. Avg-Loss: -0.2158, Accuracy: 0.9773\n",
      "After. Avg-Loss: 0.0304, Accuracy: 0.8898\n",
      "3 0.2 0.9773 0.8898\n",
      "Before. Avg-Loss: -0.2139, Accuracy: 0.9781\n",
      "After. Avg-Loss: 0.0379, Accuracy: 0.8868\n",
      "3 0.25 0.9781 0.8868\n",
      "Before. Avg-Loss: -0.2105, Accuracy: 0.9773\n",
      "After. Avg-Loss: 0.0530, Accuracy: 0.8828\n",
      "3 0.30000000000000004 0.9773 0.8828\n",
      "Before. Avg-Loss: -0.2056, Accuracy: 0.9776\n",
      "After. Avg-Loss: 0.0844, Accuracy: 0.8712\n",
      "3 0.3500000000000001 0.9776 0.8712\n",
      "Before. Avg-Loss: -0.1974, Accuracy: 0.9771\n",
      "After. Avg-Loss: 0.1304, Accuracy: 0.8613\n",
      "3 0.4 0.9771 0.8613\n",
      "Before. Avg-Loss: -0.1534, Accuracy: 0.9780\n",
      "After. Avg-Loss: 0.0946, Accuracy: 0.8906\n",
      "4 0.1 0.978 0.8906\n",
      "Before. Avg-Loss: -0.1528, Accuracy: 0.9785\n",
      "After. Avg-Loss: 0.0876, Accuracy: 0.8926\n",
      "4 0.15000000000000002 0.9785 0.8926\n",
      "Before. Avg-Loss: -0.1507, Accuracy: 0.9775\n",
      "After. Avg-Loss: 0.0879, Accuracy: 0.8924\n",
      "4 0.2 0.9775 0.8924\n",
      "Before. Avg-Loss: -0.1486, Accuracy: 0.9778\n",
      "After. Avg-Loss: 0.0948, Accuracy: 0.8903\n",
      "4 0.25 0.9778 0.8903\n",
      "Before. Avg-Loss: -0.1453, Accuracy: 0.9772\n",
      "After. Avg-Loss: 0.1141, Accuracy: 0.8822\n",
      "4 0.30000000000000004 0.9772 0.8822\n",
      "Before. Avg-Loss: -0.1402, Accuracy: 0.9780\n",
      "After. Avg-Loss: 0.1492, Accuracy: 0.8726\n",
      "4 0.3500000000000001 0.978 0.8726\n",
      "Before. Avg-Loss: -0.1310, Accuracy: 0.9776\n",
      "After. Avg-Loss: 0.1993, Accuracy: 0.8610\n",
      "4 0.4 0.9776 0.861\n",
      "Before. Avg-Loss: -0.0482, Accuracy: 0.9780\n",
      "After. Avg-Loss: 0.1869, Accuracy: 0.8943\n",
      "8 0.1 0.978 0.8943\n",
      "Before. Avg-Loss: -0.0469, Accuracy: 0.9777\n",
      "After. Avg-Loss: 0.1799, Accuracy: 0.8975\n",
      "8 0.15000000000000002 0.9777 0.8975\n",
      "Before. Avg-Loss: -0.0451, Accuracy: 0.9773\n",
      "After. Avg-Loss: 0.1810, Accuracy: 0.8966\n",
      "8 0.2 0.9773 0.8966\n",
      "Before. Avg-Loss: -0.0426, Accuracy: 0.9779\n",
      "After. Avg-Loss: 0.1900, Accuracy: 0.8942\n",
      "8 0.25 0.9779 0.8942\n",
      "Before. Avg-Loss: -0.0389, Accuracy: 0.9779\n",
      "After. Avg-Loss: 0.2119, Accuracy: 0.8869\n",
      "8 0.30000000000000004 0.9779 0.8869\n",
      "Before. Avg-Loss: -0.0325, Accuracy: 0.9769\n",
      "After. Avg-Loss: 0.2525, Accuracy: 0.8773\n",
      "8 0.3500000000000001 0.9769 0.8773\n",
      "Before. Avg-Loss: -0.0225, Accuracy: 0.9774\n",
      "After. Avg-Loss: 0.3099, Accuracy: 0.8599\n",
      "8 0.4 0.9774 0.8599\n",
      "Before. Avg-Loss: -0.0384, Accuracy: 0.9778\n",
      "After. Avg-Loss: 0.1897, Accuracy: 0.8950\n",
      "9 0.1 0.9778 0.895\n",
      "Before. Avg-Loss: -0.0376, Accuracy: 0.9778\n",
      "After. Avg-Loss: 0.1825, Accuracy: 0.8980\n",
      "9 0.15000000000000002 0.9778 0.898\n",
      "Before. Avg-Loss: -0.0356, Accuracy: 0.9778\n",
      "After. Avg-Loss: 0.1838, Accuracy: 0.8972\n",
      "9 0.2 0.9778 0.8972\n",
      "Before. Avg-Loss: -0.0331, Accuracy: 0.9780\n",
      "After. Avg-Loss: 0.1913, Accuracy: 0.8949\n",
      "9 0.25 0.978 0.8949\n",
      "Before. Avg-Loss: -0.0296, Accuracy: 0.9774\n",
      "After. Avg-Loss: 0.2144, Accuracy: 0.8879\n",
      "9 0.30000000000000004 0.9774 0.8879\n",
      "Before. Avg-Loss: -0.0231, Accuracy: 0.9767\n",
      "After. Avg-Loss: 0.2537, Accuracy: 0.8758\n",
      "9 0.3500000000000001 0.9767 0.8758\n",
      "Before. Avg-Loss: -0.0128, Accuracy: 0.9768\n",
      "After. Avg-Loss: 0.3140, Accuracy: 0.8571\n",
      "9 0.4 0.9768 0.8571\n"
     ]
    }
   ],
   "source": [
    "original_accuracy = {}\n",
    "attacked_accuracy = {}\n",
    "\n",
    "for i in range(1, 10):\n",
    "    for eps in np.linspace(0.1, 0.4, 7):\n",
    "        eps = round(eps, 2)\n",
    "        m_ = DeltaEnsemble(m, n_neighb = i, eps = eps)\n",
    "        m_.eval()\n",
    "        original_acc, _, attacked_acc, _, _ = utils.attack_model(m_, loss_fn, int(40000 // max(1, i)), utils.valset, 400)\n",
    "        print(i, eps, original_acc, attacked_acc)\n",
    "        original_accuracy[i, eps] = original_acc\n",
    "        attacked_accuracy[i, eps] = attacked_acc"
   ]
  },
  {
   "cell_type": "code",
   "execution_count": 35,
   "id": "99e2cc15",
   "metadata": {},
   "outputs": [
    {
     "data": {
      "image/png": "[encoded data removed]",
      "text/plain": [
       "<Figure size 432x288 with 2 Axes>"
      ]
     },
     "metadata": {
      "needs_background": "light"
     },
     "output_type": "display_data"
    }
   ],
   "source": [
    "import matplotlib.pyplot as plt\n",
    "\n",
    "arr = np.array([[k1, k2, v] for (k1, k2), v in original_accuracy.items()])\n",
    "np.save('original_accuracy', arr)\n",
    "# fig = plt.figure(figsize=(12, 12))\n",
    "# ax = fig.add_subplot(projection='3d')\n",
    "\n",
    "plt.scatter(arr[:, 0], arr[:, 1], c = arr[:, 2], cmap = 'hot')\n",
    "plt.colorbar()\n",
    "plt.clim(0.7,1)"
   ]
  },
  {
   "cell_type": "code",
   "execution_count": 34,
   "id": "5a777ce0",
   "metadata": {},
   "outputs": [
    {
     "data": {
      "image/png": "[encoded data removed]",
      "text/plain": [
       "<Figure size 432x288 with 2 Axes>"
      ]
     },
     "metadata": {
      "needs_background": "light"
     },
     "output_type": "display_data"
    }
   ],
   "source": [
    "import matplotlib.pyplot as plt\n",
    "\n",
    "arr = np.array([[k1, k2, v] for (k1, k2), v in attacked_accuracy.items()])\n",
    "np.save('attacked_accuracy', arr)\n",
    "# fig = plt.figure(figsize=(12, 12))\n",
    "# ax = fig.add_subplot(projection='3d')\n",
    "\n",
    "plt.scatter(arr[:, 0], arr[:, 1], c = arr[:, 2], cmap = 'hot')\n",
    "plt.colorbar()\n",
    "plt.clim(0.7,1)"
   ]
  }
 ],
 "metadata": {
  "kernelspec": {
   "display_name": "Python 3 (ipykernel)",
   "language": "python",
   "name": "python3"
  },
  "language_info": {
   "codemirror_mode": {
    "name": "ipython",
    "version": 3
   },
   "file_extension": ".py",
   "mimetype": "text/x-python",
   "name": "python",
   "nbconvert_exporter": "python",
   "pygments_lexer": "ipython3",
   "version": "3.9.12"
  }
 },
 "nbformat": 4,
 "nbformat_minor": 5
}
