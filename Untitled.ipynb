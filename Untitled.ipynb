{
 "cells": [
  {
   "cell_type": "code",
   "execution_count": 1,
   "id": "59b5eb18",
   "metadata": {},
   "outputs": [],
   "source": [
    "import torch\n",
    "import torch.nn as nn\n",
    "from torch.nn import functional as F\n",
    "from torchvision import datasets, transforms\n",
    "\n",
    "# import torchattacks\n",
    "\n",
    "# get_model_name = lambda m: str(m.__class__).split('.')[-1][:-2]\n",
    "\n",
    "# # Load MNIST dataset\n",
    "# transform=transforms.Compose([\n",
    "#     transforms.ToTensor(),\n",
    "#     transforms.Normalize(0, 1)\n",
    "#     ])\n",
    "\n",
    "# trainset = datasets.MNIST('Dataset', train=True, download=True, transform=transform)\n",
    "# valset = datasets.MNIST('Dataset', train=False, transform=transform)\n"
   ]
  },
  {
   "cell_type": "code",
   "execution_count": 16,
   "id": "f80738e8",
   "metadata": {},
   "outputs": [
    {
     "data": {
      "text/plain": [
       "tensor([0.6317, 0.6864, 0.5756, 0.6919])"
      ]
     },
     "execution_count": 16,
     "metadata": {},
     "output_type": "execute_result"
    }
   ],
   "source": [
    "import numpy as np\n",
    "\n",
    "\n",
    "torch.sigmoid(torch.rand(4))"
   ]
  },
  {
   "cell_type": "code",
   "execution_count": 47,
   "id": "417b1acd",
   "metadata": {},
   "outputs": [],
   "source": [
    "x = torch.fft.irfft2(torch.rand(28, 15, dtype=torch.complex64))"
   ]
  },
  {
   "cell_type": "code",
   "execution_count": 48,
   "id": "152a3d39",
   "metadata": {},
   "outputs": [
    {
     "data": {
      "image/png": "[encoded data removed]",
      "text/plain": [
       "<Figure size 288x288 with 1 Axes>"
      ]
     },
     "metadata": {
      "needs_background": "light"
     },
     "output_type": "display_data"
    }
   ],
   "source": [
    "plt.matshow(x)\n",
    "plt.show()"
   ]
  },
  {
   "cell_type": "code",
   "execution_count": 49,
   "id": "6e5d8a7a",
   "metadata": {},
   "outputs": [
    {
     "data": {
      "text/plain": [
       "(array([  1.,   0.,   1., 419., 360.,   1.,   0.,   1.,   0.,   1.]),\n",
       " array([-0.34936568, -0.26177389, -0.17418209, -0.0865903 ,  0.0010015 ,\n",
       "         0.08859329,  0.17618508,  0.26377688,  0.35136867,  0.43896047,\n",
       "         0.52655226]),\n",
       " <BarContainer object of 10 artists>)"
      ]
     },
     "execution_count": 49,
     "metadata": {},
     "output_type": "execute_result"
    },
    {
     "data": {
      "image/png": "[encoded data removed]",
      "text/plain": [
       "<Figure size 432x288 with 1 Axes>"
      ]
     },
     "metadata": {
      "needs_background": "light"
     },
     "output_type": "display_data"
    }
   ],
   "source": [
    "plt.hist(x.flatten().tolist())"
   ]
  },
  {
   "cell_type": "code",
   "execution_count": 56,
   "id": "5cc88254",
   "metadata": {},
   "outputs": [
    {
     "data": {
      "text/plain": [
       "tensor(-0.6089)"
      ]
     },
     "execution_count": 56,
     "metadata": {},
     "output_type": "execute_result"
    }
   ],
   "source": [
    "import torch.nn.functional as F\n",
    "\n",
    "d1 = torch.rand(1, 10)\n",
    "d2 = torch.rand(1, 10)\n",
    "\n",
    "F.kl_div(d1, d2)"
   ]
  },
  {
   "cell_type": "code",
   "execution_count": 63,
   "id": "288c68b3",
   "metadata": {},
   "outputs": [
    {
     "data": {
      "text/plain": [
       "tensor(-0.2351)"
      ]
     },
     "execution_count": 63,
     "metadata": {},
     "output_type": "execute_result"
    }
   ],
   "source": [
    "F.kl_div(d1.softmax(-1), d2.softmax(-1))"
   ]
  }
 ],
 "metadata": {
  "kernelspec": {
   "display_name": "Python 3 (ipykernel)",
   "language": "python",
   "name": "python3"
  },
  "language_info": {
   "codemirror_mode": {
    "name": "ipython",
    "version": 3
   },
   "file_extension": ".py",
   "mimetype": "text/x-python",
   "name": "python",
   "nbconvert_exporter": "python",
   "pygments_lexer": "ipython3",
   "version": "3.9.12"
  }
 },
 "nbformat": 4,
 "nbformat_minor": 5
}
