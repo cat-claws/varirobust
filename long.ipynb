{
 "cells": [
  {
   "cell_type": "code",
   "execution_count": 1,
   "id": "6631ac90",
   "metadata": {},
   "outputs": [
    {
     "name": "stdout",
     "output_type": "stream",
     "text": [
      "Validation-epoch 0. Avg-Loss: 0.5446, Accuracy: 0.8586\n",
      "Validation-epoch 1. Avg-Loss: 0.1873, Accuracy: 0.9529\n",
      "Validation-epoch 2. Avg-Loss: 0.1222, Accuracy: 0.9649\n",
      "Validation-epoch 3. Avg-Loss: 0.0841, Accuracy: 0.9754\n",
      "Validation-epoch 4. Avg-Loss: 0.0702, Accuracy: 0.9785\n",
      "Validation-epoch 5. Avg-Loss: 0.0614, Accuracy: 0.9806\n",
      "Validation-epoch 6. Avg-Loss: 0.0559, Accuracy: 0.9834\n",
      "Validation-epoch 7. Avg-Loss: 0.0527, Accuracy: 0.9850\n",
      "Validation-epoch 8. Avg-Loss: 0.0527, Accuracy: 0.9828\n",
      "Validation-epoch 9. Avg-Loss: 0.0484, Accuracy: 0.9849\n",
      "Validation-epoch 10. Avg-Loss: 0.0474, Accuracy: 0.9841\n",
      "Validation-epoch 11. Avg-Loss: 0.0459, Accuracy: 0.9852\n",
      "Validation-epoch 12. Avg-Loss: 0.0460, Accuracy: 0.9855\n",
      "Validation-epoch 13. Avg-Loss: 0.0433, Accuracy: 0.9867\n",
      "Validation-epoch 14. Avg-Loss: 0.0399, Accuracy: 0.9869\n",
      "Validation-epoch 15. Avg-Loss: 0.0456, Accuracy: 0.9861\n",
      "Validation-epoch 16. Avg-Loss: 0.0357, Accuracy: 0.9879\n",
      "Validation-epoch 17. Avg-Loss: 0.0391, Accuracy: 0.9868\n",
      "Validation-epoch 18. Avg-Loss: 0.0423, Accuracy: 0.9864\n",
      "Validation-epoch 19. Avg-Loss: 0.0439, Accuracy: 0.9856\n",
      "Validation-epoch 20. Avg-Loss: 0.0370, Accuracy: 0.9881\n",
      "Validation-epoch 21. Avg-Loss: 0.0342, Accuracy: 0.9888\n",
      "Validation-epoch 22. Avg-Loss: 0.0357, Accuracy: 0.9878\n",
      "Validation-epoch 23. Avg-Loss: 0.0351, Accuracy: 0.9887\n",
      "Validation-epoch 24. Avg-Loss: 0.0355, Accuracy: 0.9883\n",
      "Validation-epoch 25. Avg-Loss: 0.0373, Accuracy: 0.9880\n",
      "Validation-epoch 26. Avg-Loss: 0.0311, Accuracy: 0.9896\n",
      "Validation-epoch 27. Avg-Loss: 0.0358, Accuracy: 0.9887\n",
      "Validation-epoch 28. Avg-Loss: 0.0346, Accuracy: 0.9893\n",
      "Validation-epoch 29. Avg-Loss: 0.0343, Accuracy: 0.9893\n",
      "Validation-epoch 30. Avg-Loss: 0.0350, Accuracy: 0.9896\n",
      "Validation-epoch 31. Avg-Loss: 0.0395, Accuracy: 0.9874\n",
      "Validation-epoch 32. Avg-Loss: 0.0322, Accuracy: 0.9899\n",
      "Validation-epoch 33. Avg-Loss: 0.0321, Accuracy: 0.9897\n",
      "Validation-epoch 34. Avg-Loss: 0.0339, Accuracy: 0.9891\n",
      "Validation-epoch 35. Avg-Loss: 0.0337, Accuracy: 0.9894\n",
      "Validation-epoch 36. Avg-Loss: 0.0345, Accuracy: 0.9885\n",
      "Validation-epoch 37. Avg-Loss: 0.0329, Accuracy: 0.9895\n",
      "Validation-epoch 38. Avg-Loss: 0.0334, Accuracy: 0.9897\n",
      "Validation-epoch 39. Avg-Loss: 0.0338, Accuracy: 0.9900\n",
      "Validation-epoch 40. Avg-Loss: 0.0292, Accuracy: 0.9906\n",
      "Validation-epoch 41. Avg-Loss: 0.0304, Accuracy: 0.9896\n",
      "Validation-epoch 42. Avg-Loss: 0.0292, Accuracy: 0.9902\n",
      "Validation-epoch 43. Avg-Loss: 0.0304, Accuracy: 0.9906\n",
      "Validation-epoch 44. Avg-Loss: 0.0306, Accuracy: 0.9901\n",
      "Validation-epoch 45. Avg-Loss: 0.0309, Accuracy: 0.9893\n",
      "Validation-epoch 46. Avg-Loss: 0.0297, Accuracy: 0.9903\n",
      "Validation-epoch 47. Avg-Loss: 0.0333, Accuracy: 0.9892\n",
      "Validation-epoch 48. Avg-Loss: 0.0306, Accuracy: 0.9903\n",
      "Validation-epoch 49. Avg-Loss: 0.0320, Accuracy: 0.9896\n"
     ]
    }
   ],
   "source": [
    "import utils\n",
    "from utils import DeltaEnsemble\n",
    "from mnist_models import TwoLayerNN, MLP, CNN, MLPBN, ConvNet, LeNet, LeNet5\n",
    "import torch.nn.functional as F\n",
    "\n",
    "import torch\n",
    "\n",
    "m = CNN()\n",
    "batchSize = 1000\n",
    "loss_fn = lambda x, y: F.nll_loss(torch.log(x + 1e-9), y)\n",
    "learningRate = 0.001\n",
    "\n",
    "optimizer = torch.optim.Adam(m.parameters(), lr = learningRate)\n",
    "\n",
    "num_epochs = 50\n",
    "\n",
    "utils.train_model(m, loss_fn, batchSize, utils.trainset, utils.valset, optimizer, num_epochs)\n"
   ]
  },
  {
   "cell_type": "code",
   "execution_count": 2,
   "id": "0ddc5665",
   "metadata": {},
   "outputs": [
    {
     "name": "stdout",
     "output_type": "stream",
     "text": [
      "Before. Avg-Loss: 0.0320, Accuracy: 0.9896\n",
      "After. Avg-Loss: 0.2747, Accuracy: 0.9104\n"
     ]
    }
   ],
   "source": [
    "utils.attack_model(m, loss_fn, 1000, utils.valset, 400);\n"
   ]
  },
  {
   "cell_type": "code",
   "execution_count": 3,
   "id": "bc27328d",
   "metadata": {},
   "outputs": [],
   "source": [
    "import numpy as np"
   ]
  },
  {
   "cell_type": "code",
   "execution_count": null,
   "id": "df9700e4",
   "metadata": {},
   "outputs": [
    {
     "name": "stdout",
     "output_type": "stream",
     "text": [
      "Before. Avg-Loss: -0.6609, Accuracy: 0.9897\n",
      "After. Avg-Loss: -0.4849, Accuracy: 0.9275\n",
      "1 0.1 0.9897 0.9275\n",
      "Before. Avg-Loss: -0.6606, Accuracy: 0.9894\n",
      "After. Avg-Loss: -0.4889, Accuracy: 0.9276\n",
      "1 0.15 0.9894 0.9276\n",
      "Before. Avg-Loss: -0.6599, Accuracy: 0.9894\n",
      "After. Avg-Loss: -0.4869, Accuracy: 0.9271\n",
      "1 0.2 0.9894 0.9271\n",
      "Before. Avg-Loss: -0.6589, Accuracy: 0.9891\n",
      "After. Avg-Loss: -0.4825, Accuracy: 0.9244\n",
      "1 0.25 0.9891 0.9244\n",
      "Before. Avg-Loss: -0.6583, Accuracy: 0.9889\n",
      "After. Avg-Loss: -0.4795, Accuracy: 0.9241\n",
      "1 0.3 0.9889 0.9241\n",
      "Before. Avg-Loss: -0.6567, Accuracy: 0.9885\n",
      "After. Avg-Loss: -0.4675, Accuracy: 0.9206\n",
      "1 0.35 0.9885 0.9206\n",
      "Before. Avg-Loss: -0.6545, Accuracy: 0.9883\n",
      "After. Avg-Loss: -0.4442, Accuracy: 0.9164\n",
      "1 0.4 0.9883 0.9164\n",
      "Before. Avg-Loss: -0.3731, Accuracy: 0.9892\n",
      "After. Avg-Loss: -0.2134, Accuracy: 0.9339\n",
      "2 0.1 0.9892 0.9339\n",
      "Before. Avg-Loss: -0.3727, Accuracy: 0.9891\n",
      "After. Avg-Loss: -0.2166, Accuracy: 0.9335\n",
      "2 0.15 0.9891 0.9335\n",
      "Before. Avg-Loss: -0.3722, Accuracy: 0.9891\n",
      "After. Avg-Loss: -0.2169, Accuracy: 0.9316\n",
      "2 0.2 0.9891 0.9316\n",
      "Before. Avg-Loss: -0.3709, Accuracy: 0.9883\n",
      "After. Avg-Loss: -0.2101, Accuracy: 0.9293\n",
      "2 0.25 0.9883 0.9293\n",
      "Before. Avg-Loss: -0.3697, Accuracy: 0.9888\n",
      "After. Avg-Loss: -0.2021, Accuracy: 0.9270\n",
      "2 0.3 0.9888 0.927\n",
      "Before. Avg-Loss: -0.3672, Accuracy: 0.9882\n",
      "After. Avg-Loss: -0.1835, Accuracy: 0.9211\n",
      "2 0.35 0.9882 0.9211\n",
      "Before. Avg-Loss: -0.3638, Accuracy: 0.9879\n",
      "After. Avg-Loss: -0.1505, Accuracy: 0.9112\n",
      "2 0.4 0.9879 0.9112\n",
      "Before. Avg-Loss: -0.2552, Accuracy: 0.9895\n",
      "After. Avg-Loss: -0.1033, Accuracy: 0.9352\n",
      "3 0.1 0.9895 0.9352\n",
      "Before. Avg-Loss: -0.2548, Accuracy: 0.9895\n",
      "After. Avg-Loss: -0.1072, Accuracy: 0.9375\n",
      "3 0.15 0.9895 0.9375\n",
      "Before. Avg-Loss: -0.2542, Accuracy: 0.9892\n",
      "After. Avg-Loss: -0.1046, Accuracy: 0.9358\n",
      "3 0.2 0.9892 0.9358\n",
      "Before. Avg-Loss: -0.2532, Accuracy: 0.9891\n",
      "After. Avg-Loss: -0.0991, Accuracy: 0.9323\n",
      "3 0.25 0.9891 0.9323\n",
      "Before. Avg-Loss: -0.2515, Accuracy: 0.9879\n",
      "After. Avg-Loss: -0.0905, Accuracy: 0.9291\n",
      "3 0.3 0.9879 0.9291\n"
     ]
    }
   ],
   "source": [
    "original_accuracy = {}\n",
    "attacked_accuracy = {}\n",
    "\n",
    "for i in range(1, 10):\n",
    "    for eps in np.linspace(0.1, 0.4, 7):\n",
    "        eps = round(eps, 2)\n",
    "        m_ = DeltaEnsemble(m, n_neighb = i, eps = eps)\n",
    "        m_.eval()\n",
    "        original_acc, _, attacked_acc, _, _ = utils.attack_model(m_, loss_fn, int(40000 // max(1, i)), utils.valset, 400)\n",
    "        print(i, eps, original_acc, attacked_acc)\n",
    "        original_accuracy[i, eps] = original_acc\n",
    "        attacked_accuracy[i, eps] = attacked_acc"
   ]
  },
  {
   "cell_type": "code",
   "execution_count": null,
   "id": "99e2cc15",
   "metadata": {},
   "outputs": [],
   "source": [
    "import matplotlib.pyplot as plt\n",
    "\n",
    "arr = np.array([[k1, k2, v] for (k1, k2), v in original_accuracy.items()])\n",
    "np.save('original_accuracy', arr)\n",
    "# fig = plt.figure(figsize=(12, 12))\n",
    "# ax = fig.add_subplot(projection='3d')\n",
    "\n",
    "plt.scatter(arr[:, 0], arr[:, 1], c = arr[:, 2], cmap = 'hot')\n",
    "plt.colorbar()\n",
    "plt.clim(0.7,1)"
   ]
  },
  {
   "cell_type": "code",
   "execution_count": null,
   "id": "5a777ce0",
   "metadata": {},
   "outputs": [],
   "source": [
    "import matplotlib.pyplot as plt\n",
    "\n",
    "arr = np.array([[k1, k2, v] for (k1, k2), v in attacked_accuracy.items()])\n",
    "np.save('attacked_accuracy', arr)\n",
    "# fig = plt.figure(figsize=(12, 12))\n",
    "# ax = fig.add_subplot(projection='3d')\n",
    "\n",
    "plt.scatter(arr[:, 0], arr[:, 1], c = arr[:, 2], cmap = 'hot')\n",
    "plt.colorbar()\n",
    "plt.clim(0.7,1)"
   ]
  }
 ],
 "metadata": {
  "kernelspec": {
   "display_name": "Python 3 (ipykernel)",
   "language": "python",
   "name": "python3"
  },
  "language_info": {
   "codemirror_mode": {
    "name": "ipython",
    "version": 3
   },
   "file_extension": ".py",
   "mimetype": "text/x-python",
   "name": "python",
   "nbconvert_exporter": "python",
   "pygments_lexer": "ipython3",
   "version": "3.9.12"
  }
 },
 "nbformat": 4,
 "nbformat_minor": 5
}
